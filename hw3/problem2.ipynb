{
 "cells": [
  {
   "cell_type": "code",
   "execution_count": 1,
   "metadata": {},
   "outputs": [],
   "source": [
    "import numpy as np\n",
    "from sklearn.cluster import KMeans\n",
    "from scipy.spatial.distance import cdist\n",
    "import matplotlib.pyplot as plt"
   ]
  },
  {
   "cell_type": "code",
   "execution_count": 2,
   "metadata": {},
   "outputs": [],
   "source": [
    "data = np.load(\"data/science2k-doc-word.npy\")\n",
    "title = []\n",
    "for line in open(\"data/science2k-titles.txt\"):\n",
    "    title.append(line.rstrip())"
   ]
  },
  {
   "cell_type": "code",
   "execution_count": 3,
   "metadata": {},
   "outputs": [],
   "source": [
    "# Select K\n",
    "def elbow_method(data):\n",
    "    K = range(1, 25)\n",
    "    dist = []\n",
    "    d_k = []\n",
    "    for k in K:\n",
    "        clf = KMeans(n_clusters=k, init='k-means++', max_iter=500)\n",
    "        clf.fit(data)\n",
    "        centers = clf.cluster_centers_\n",
    "        labels = clf.labels_\n",
    "        cluster = {label:[] for label in set(labels)}\n",
    "        dist_ = clf.transform(data)\n",
    "        for i, label in enumerate(labels):\n",
    "            cluster[label].append(dist_[i][label])\n",
    "        tmp = 0\n",
    "        for i in range(k):\n",
    "            for dist in cluster[i]:\n",
    "                tmp += dist ** 2\n",
    "        d_k.append(tmp)\n",
    "    plt.plot(K, d_k, 'bx-')\n",
    "    plt.xlabel('k')\n",
    "    plt.ylabel('Dist')\n",
    "    plt.title('Elbow Method')\n",
    "    plt.show()"
   ]
  },
  {
   "cell_type": "code",
   "execution_count": 4,
   "metadata": {},
   "outputs": [
    {
     "data": {
      "image/png": "[encoded data removed]",
      "text/plain": [
       "<Figure size 432x288 with 1 Axes>"
      ]
     },
     "metadata": {
      "needs_background": "light"
     },
     "output_type": "display_data"
    }
   ],
   "source": [
    "elbow_method(data)"
   ]
  },
  {
   "cell_type": "code",
   "execution_count": 5,
   "metadata": {},
   "outputs": [],
   "source": [
    "def run_kmean(data, title, k):\n",
    "    clf = KMeans(n_clusters=k, init='k-means++', max_iter=500)\n",
    "    clf.fit(data)\n",
    "    centers = clf.cluster_centers_\n",
    "    dist = clf.transform(data)\n",
    "    labels = clf.labels_\n",
    "    cluster = {label:[] for label in set(labels)}\n",
    "    data_ = {label:[] for label in set(labels)}\n",
    "    for i, label in enumerate(labels):\n",
    "        data_[label].append((i, data[i]))\n",
    "        cluster[label].append((i, dist[i][label]))\n",
    "\n",
    "    mean = np.mean(data, axis=0)\n",
    "    cluster_far = {}\n",
    "    cluster_close = {}\n",
    "    for i in range(k):\n",
    "        farest = sorted(data_[i], key = lambda x: np.linalg.norm(x[1] - mean), reverse = True)[:10]\n",
    "        tmp = []\n",
    "        for index, d in farest:\n",
    "            tmp.append(title[index])\n",
    "        cluster_far[i] = tmp\n",
    "    for i in range(k):\n",
    "        cloest = sorted(cluster[i], key = lambda x: x[1])[:10]\n",
    "        tmp = []\n",
    "        for index, d in cloest:\n",
    "            tmp.append(title[index])\n",
    "        cluster_close[i] = tmp\n",
    "    return cluster_far, cluster_close"
   ]
  },
  {
   "cell_type": "markdown",
   "metadata": {},
   "source": [
    "## Problem (a)"
   ]
  },
  {
   "cell_type": "code",
   "execution_count": 6,
   "metadata": {},
   "outputs": [
    {
     "name": "stdout",
     "output_type": "stream",
     "text": [
      "-------\n",
      "10 farest titles in Cluster 0:  ['\"Atom-Scale Research Gets Real\"', '\"A Mouse Chronology\"', '\"Breakthrough of the Year: Genomics Comes of Age\"', '\"Infectious History\"', '\"Genomics: Journey to the Center of Biology\"', '\"Meltdown on Long Island\"', '\"Presidential Forum: Gore and Bush Offer Their Views on Science\"', '\"Designing a New Material World\"', '\"Deconstructing the Science Wars by Reconstructing an Old Mold\"', '\"Clones: A Hard Act to Follow\"']\n",
      "\n",
      "\n",
      "-------\n",
      "10 farest titles in Cluster 1:  ['\"Sedimentary Rocks of Early Mars\"', '\"Status and Improvements of Coupled General Circulation Models\"', '\"Piecing Together the Biggest Puzzle of All\"', '\"Timing the Ancestor of the HIV-1 Pandemic Strains\"', '\"NEAR at Eros: Imaging and Spectral Results\"', '\"The Formation and Early Evolution of the Milky Way Galaxy\"', '\"The Ascent of Atmospheric Sciences\"', '\"Subduction and Slab Detachment in the Mediterranean-Carpathian Region\"', '\"Climate Extremes: Observations, Modeling, and Impacts\"', '\"Planetary Science: A Space Odyssey\"']\n",
      "\n",
      "\n",
      "-------\n",
      "10 farest titles in Cluster 2:  ['\"The Genome Sequence of Drosophila melanogaster\"', '\"Comparative Genomics of the Eukaryotes\"', '\"Breaking down Scientific Barriers to the Study of Brain and Mind\"', '\"The Complete Atomic Structure of the Large Ribosomal Subunit at 2.4 <latex>$\\\\AA$</latex> Resolution\"', '\"A Whole-Genome Assembly of Drosophila\"', '\"The Way Things Move: Looking under the Hood of Molecular Motor Proteins\"', '\"Architecture of RNA Polymerase II and Implications for the Transcription Mechanism\"', '\"A Structural Framework for Deciphering the Link between <latex>$I-A^{g7}$</latex> and Autoimmune Diabetes\"', '\"Three-Dimensional Structure of the Tn5 Synaptic Complex Transposition Intermediate\"', '\"Positional Syntenic Cloning and Functional Characterization of the Mammalian Circadian Mutation tau\"']\n",
      "\n",
      "\n",
      "-------\n",
      "10 farest titles in Cluster 3:  ['\"An Oral Vaccine against NMDAR1 with Efficacy in Experimental Stroke and Epilepsy\"', '\"Therapeutic Approaches to Bone Diseases\"', '\"The Incredible Life and Times of Biological Cells\"', '\"Impaired Nociception and Pain Sensation in Mice Lacking the Capsaicin Receptor\"', '\"Neurodegeneration Prevented by Lentiviral Vector Delivery of GDNF in Primate Models of Parkinson\\'s Disease\"', '\"Function of PI3Kg in Thymocyte Development, T Cell Activation, and Neutrophil Migration\"', '\"Role of the Mouse ank Gene in Control of Tissue Calcification and Arthritis\"', '\"Signaling and Circuitry of Multiple MAPK Pathways Revealed by a Matrix of Global Gene Expression Profiles\"', '\"Central Role for G Protein-Coupled Phosphoinositide 3-Kinase g in Inflammation\"', '\"Noxa, a BH3-Only Member of the Bcl-2 Family and Candidate Mediator of p53-Induced Apoptosis\"']\n",
      "\n",
      "\n",
      "-------\n",
      "10 farest titles in Cluster 4:  ['\"How Animals Move: An Integrative View\"', '\"Advances in the Physics of High-Temperature Superconductivity\"', '\"Untangling Dendrites with Quantitative Models\"', '\"The Atom-Cavity Microscope: Single Atoms Bound in Orbit by Single Photons\"', '\"Blue-Fluorescent Antibodies\"', '\"Quantum Criticality: Competing Ground States in Low Dimensions\"', '\"Whither the Future of Controlling Quantum Phenomena?\"', '\"Microfabricating Conjugated Polymer Actuators\"', '\"Orbital Physics in Transition-Metal Oxides\"', '\"From Micro- to Nanofabrication with Soft Materials\"']\n",
      "\n",
      "\n",
      "-------\n",
      "10 farest titles in Cluster 5:  ['\"Emerging Infectious Diseases of Wildlife-Threats to Biodiversity and Human Health\"', '\"Psychological and Neural Mechanisms of the Affective Dimension of Pain\"', '\"The Drosophila Genome Sequence: Implications for Biology and Medicine\"', '\"Ideas about the Surface Runoff Features on Mars\"', '\"An Archaeal Iron-Oxidizing Extreme Acidophile Important in Acid Mine Drainage\"', '\"The Babel of Bioinformatics\"', '\"Salmonella enteritidis Epidemic\"', '\"Coding the Location of the Arm by Sight\"', '\"Biosensors: Sense and Sensitivity\"', '\"Combating Parkinson\\'s Disease: Step Three\"']\n",
      "\n",
      "\n"
     ]
    }
   ],
   "source": [
    "cluster_far, cluster_close = run_kmean(data, title, 6)\n",
    "for label, titles in cluster_far.items():\n",
    "    print(\"-------\")\n",
    "    print(\"10 farest titles in Cluster %d: \" %label, titles)\n",
    "    print('\\n')"
   ]
  },
  {
   "cell_type": "code",
   "execution_count": 7,
   "metadata": {},
   "outputs": [
    {
     "name": "stdout",
     "output_type": "stream",
     "text": [
      "-------\n",
      "10 closest titles in Cluster 0:  ['\"Information Technology Takes a Different Tack\"', '\"Science Survives in Breakthrough States\"', '\"Vaccine Studies Stymied by Shortage of Animals\"', '\"For \\'Father\\' of Abortion Drug, Vindication at Last\"', '\"Flushing out Nasty Viruses in the Balkans\"', '\"On a Slippery Slope to Mediocrity?\"', '\"Privatizing the University: The New Tragedy of the Commons\"', '\"In Europe, Hooligans Are Prime Subjects for Research\"', '\"Japan\\'s Whaling Program Carries Heavy Baggage\"', '\"Is AIDS in Africa a Distinct Disease?\"']\n",
      "\n",
      "\n",
      "-------\n",
      "10 closest titles in Cluster 1:  ['\"Greenland Ice Sheet: High-Elevation Balance and Peripheral Thinning\"', '\"Isotopic Evidence for Variations in the Marine Calcium Cycle over the Cenozoic\"', '\"Mass Balance of the Greenland Ice Sheet at High Elevations\"', '\"Rapid Kimberlite Ascent and the Significance of Ar-Ar Ages in Xenolith Phlogopites\"', '\"Discovery of a High-Energy Gamma-Ray-Emitting Persistent Microquasar\"', '\"The Role of the Southern Ocean in Uptake and Storage of Anthropogenic Carbon Dioxide\"', '\"Remobilization in the Cratonic Lithosphere Recorded in Polycrystalline Diamond\"', '\"Galileo Magnetometer Measurements: A Stronger Case for a Subsurface Ocean at Europa\"', '\"Temporal Trends in Deep Ocean Redfield Ratios\"', '\"Rapid Flooding of the Sunda Shelf: A Late-Glacial Sea-Level Record\"']\n",
      "\n",
      "\n",
      "-------\n",
      "10 closest titles in Cluster 2:  ['\"Structure of Yeast Poly(A) Polymerase Alone and in Complex with 3\\'-dATP\"', '\"Structure of Murine CTLA-4 and Its Role in Modulating T Cell Responsiveness\"', '\"Structure of the S15,S6,S18-rRNA Complex: Assembly of the 30S Ribosome Central Domain\"', '\"Candidate Taste Receptors in Drosophila\"', '\"Atomic Structure of PDE4: Insights into Phosphodiesterase Mechanism and Specificity\"', '\"The Productive Conformation of Arachidonic Acid Bound to Prostaglandin Synthase\"', '\"Twists in Catalysis: Alternating Conformations of Escherichia coli Thioredoxin Reductase\"', '\"Redox Signaling in Chloroplasts: Cleavage of Disulfides by an Iron-Sulfur Cluster\"', '\"Convergent Solutions to Binding at a Protein-Protein Interface\"', '\"Structure of the Protease Domain of Memapsin 2 (b-Secretase) Complexed with Inhibitor\"']\n",
      "\n",
      "\n",
      "-------\n",
      "10 closest titles in Cluster 3:  ['\"Requirement of NAD and SIR2 for Life-Span Extension by Calorie Restriction in Saccharomyces Cerevisiae\"', '\"Suppression of Mutations in Mitochondrial DNA by tRNAs Imported from the Cytoplasm\"', '\"Distinct Classes of Yeast Promoters Revealed by Differential TAF Recruitment\"', '\"Efficient Initiation of HCV RNA Replication in Cell Culture\"', '\"Negative Regulation of the SHATTERPROOF Genes by FRUITFULL during Arabidopsis Fruit Development\"', '\"T Cell-Independent Rescue of B Lymphocytes from Peripheral Immune Tolerance\"', '\"Reduced Food Intake and Body Weight in Mice Treated with Fatty Acid Synthase Inhibitors\"', '\"Patterning of the Zebrafish Retina by a Wave of Sonic Hedgehog Activity\"', '\"Coupling of Stress in the ER to Activation of JNK Protein Kinases by Transmembrane Protein Kinase IRE1\"', '\"Identification of Synergistic Signals Initiating Inner Ear Development\"']\n",
      "\n",
      "\n",
      "-------\n",
      "10 closest titles in Cluster 4:  ['\"A Stable Bicyclic Compound with Two Si=Si Double Bonds\"', '\"A Cyclic Carbanionic Valence Isomer of a Carbocation: Diphosphino Analogs of Diaminocarbocations\"', '\"Prospects for the Polymer Nanoengineer\"', '\"High-Gain Harmonic-Generation Free-Electron Laser\"', '\"Mechanisms of Ordering in Striped Patterns\"', '\"Viscosity Mechanisms in Accretion Disks\"', '\"A Light-Emitting Field-Effect Transistor\"', '\"Anomalous Polarization Profiles in Sunspots: Possible Origin of Umbral Flashes\"', '\"Planar Hexacoordinate Carbon: A Viable Possibility\"', '\"Spontaneous Ordering of Oxide Nanostructures\"']\n",
      "\n",
      "\n",
      "-------\n",
      "10 closest titles in Cluster 5:  ['\"Algorithmic Gladiators Vie for Digital Glory\"', '\"Reopening the Darkest Chapter in German Science\"', '\"National Academy of Sciences Elects New Members\"', '\"Corrections and Clarifications: A Short Fe-Fe Distance in Peroxodiferric Ferritin: Control of Fe Substrate versus Cofactor Decay?\"', '\"Corrections and Clarifications: Charon\\'s First Detailed Spectra Hold Many Surprises\"', '\"Corrections and Clarifications: Unearthing Monuments of the Yarmukians\"', '\"Heretical Idea Faces Its Sternest Test\"', '\"Archaeology in the Holy Land\"', '\"Movement Patterns in Spoken Language\"', '\"Corrections and Clarifications: One Hundred Years of Quantum Physics\"']\n",
      "\n",
      "\n"
     ]
    }
   ],
   "source": [
    "for label, titles in cluster_close.items():\n",
    "    print(\"-------\")\n",
    "    print(\"10 closest titles in Cluster %d: \" %label, titles)\n",
    "    print('\\n')"
   ]
  },
  {
   "cell_type": "markdown",
   "metadata": {},
   "source": [
    "## Problem (b)"
   ]
  },
  {
   "cell_type": "code",
   "execution_count": 8,
   "metadata": {},
   "outputs": [],
   "source": [
    "data_ = np.load(\"data/science2k-word-doc.npy\")\n",
    "vocab = []\n",
    "for line in open(\"data/science2k-vocab.txt\"):\n",
    "    vocab.append(line.rstrip())"
   ]
  },
  {
   "cell_type": "code",
   "execution_count": 9,
   "metadata": {},
   "outputs": [
    {
     "data": {
      "image/png": "[encoded data removed]",
      "text/plain": [
       "<Figure size 432x288 with 1 Axes>"
      ]
     },
     "metadata": {
      "needs_background": "light"
     },
     "output_type": "display_data"
    }
   ],
   "source": [
    "elbow_method(data_)"
   ]
  },
  {
   "cell_type": "code",
   "execution_count": 10,
   "metadata": {},
   "outputs": [
    {
     "name": "stdout",
     "output_type": "stream",
     "text": [
      "-------\n",
      "10 farest titles in Cluster 0:  ['system', 'state', 'important', 'right', 'field', 'process', 'point', 'provide', 'energy', 'case']\n",
      "\n",
      "\n",
      "-------\n",
      "10 farest titles in Cluster 1:  ['department', 'edu', 'report', 'mail', 'population', 'amount', 'established', 'production', 'entire', 'reduction']\n",
      "\n",
      "\n",
      "-------\n",
      "10 farest titles in Cluster 2:  ['cells', 'cell', 'protein', 'gene', 'control', 'type', 'human', 'specific', 'usa', 'found']\n",
      "\n",
      "\n",
      "-------\n",
      "10 farest titles in Cluster 3:  ['years', 'research', 'new', 'see', 'long', 'like', 'study', 'institute', 'early', 'center']\n",
      "\n",
      "\n",
      "-------\n",
      "10 farest titles in Cluster 4:  ['evidence', 'recent', 'major', 'species', 'area', 'laboratory', 'period', 'water', 'natural', 'source']\n",
      "\n",
      "\n",
      "-------\n",
      "10 farest titles in Cluster 5:  ['fig', 'observed', 'surface', 'analysis', 'model', 'shown', 'number', 'low', 'time', 'region']\n",
      "\n",
      "\n"
     ]
    }
   ],
   "source": [
    "cluster_far_, cluster_close_ = run_kmean(data_, vocab, 6)\n",
    "for label, titles in cluster_far_.items():\n",
    "    print(\"-------\")\n",
    "    print(\"10 farest titles in Cluster %d: \" %label, titles)\n",
    "    print('\\n')"
   ]
  },
  {
   "cell_type": "code",
   "execution_count": 11,
   "metadata": {},
   "outputs": [
    {
     "name": "stdout",
     "output_type": "stream",
     "text": [
      "-------\n",
      "10 closest titles in Cluster 0:  ['excitations', 'coulomb', 'insulating', 'spins', 'superposition', 'coherence', 'isotropic', 'resonant', 'anisotropic', 'magnetization']\n",
      "\n",
      "\n",
      "-------\n",
      "10 closest titles in Cluster 1:  ['rory', 'aptamers', 'dnag', 'nompc', 'doxy', 'lg268', 'proteorhodopsin', 'autophagy', 'trxr', 'lcts']\n",
      "\n",
      "\n",
      "-------\n",
      "10 closest titles in Cluster 2:  ['immunoprecipitated', 'polyacrylamide', 'lysates', 'wildtype', 'phosphorylated', 'kinases', 'saline', 'monoclonal', 'opin', 'reporter']\n",
      "\n",
      "\n",
      "-------\n",
      "10 closest titles in Cluster 3:  ['schools', 'weapons', 'recalls', 'clinton', 'geneticist', 'security', 'fight', 'prize', 'finished', 'spending']\n",
      "\n",
      "\n",
      "-------\n",
      "10 closest titles in Cluster 4:  ['interglacial', 'troposphere', 'subtropical', 'clim', 'tropospheric', 'radiocarbon', 'nifio', 'stratospheric', 'volcanism', 'upwelling']\n",
      "\n",
      "\n",
      "-------\n",
      "10 closest titles in Cluster 5:  ['figs', 'vertical', 'dashed', 'parameters', 'start', 'approximately', 'substantially', 'correlation', 'intensity', 'gray']\n",
      "\n",
      "\n"
     ]
    }
   ],
   "source": [
    "for label, titles in cluster_close_.items():\n",
    "    print(\"-------\")\n",
    "    print(\"10 closest titles in Cluster %d: \" %label, titles)\n",
    "    print('\\n')"
   ]
  },
  {
   "cell_type": "code",
   "execution_count": null,
   "metadata": {},
   "outputs": [],
   "source": []
  }
 ],
 "metadata": {
  "kernelspec": {
   "display_name": "Python 3",
   "language": "python",
   "name": "python3"
  },
  "language_info": {
   "codemirror_mode": {
    "name": "ipython",
    "version": 3
   },
   "file_extension": ".py",
   "mimetype": "text/x-python",
   "name": "python",
   "nbconvert_exporter": "python",
   "pygments_lexer": "ipython3",
   "version": "3.7.3"
  }
 },
 "nbformat": 4,
 "nbformat_minor": 2
}
