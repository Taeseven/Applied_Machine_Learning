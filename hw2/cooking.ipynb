{
 "cells": [
  {
   "cell_type": "code",
   "execution_count": 1,
   "metadata": {},
   "outputs": [],
   "source": [
    "#import the necessary library\n",
    "%matplotlib inline\n",
    "import numpy as npy\n",
    "import pandas as panda\n",
    "import matplotlib.pyplot as plt\n",
    "import matplotlib.cm as cm\n",
    "from itertools import chain\n",
    "from sklearn.model_selection import KFold\n",
    "from sklearn.model_selection import cross_validate\n",
    "from sklearn.preprocessing import LabelEncoder\n",
    "from sklearn.linear_model import LogisticRegression\n",
    "from sklearn.naive_bayes import GaussianNB, BernoulliNB\n",
    "from sklearn.feature_extraction.text import CountVectorizer"
   ]
  },
  {
   "cell_type": "code",
   "execution_count": 2,
   "metadata": {},
   "outputs": [
    {
     "name": "stdout",
     "output_type": "stream",
     "text": [
      "The dishes number is 39774.\n"
     ]
    }
   ],
   "source": [
    "# read data into date frames \n",
    "train = panda.read_json(\"train.json\")\n",
    "shape = train.shape[0]\n",
    "print (\"The dishes number is %d.\" % shape)"
   ]
  },
  {
   "cell_type": "code",
   "execution_count": 3,
   "metadata": {},
   "outputs": [
    {
     "name": "stdout",
     "output_type": "stream",
     "text": [
      "There are in total 6714 ingredients.\n"
     ]
    }
   ],
   "source": [
    "# handle the ingredients case\n",
    "ingredients = set(chain.from_iterable(train.ingredients))\n",
    "length = len(ingredients)\n",
    "print (\"There are in total %d ingredients.\" % length)"
   ]
  },
  {
   "cell_type": "code",
   "execution_count": 4,
   "metadata": {},
   "outputs": [
    {
     "name": "stdout",
     "output_type": "stream",
     "text": [
      "There are in total 20 labels\n",
      "['brazilian' 'british' 'cajun_creole' 'chinese' 'filipino' 'french'\n",
      " 'greek' 'indian' 'irish' 'italian' 'jamaican' 'japanese' 'korean'\n",
      " 'mexican' 'moroccan' 'russian' 'southern_us' 'spanish' 'thai'\n",
      " 'vietnamese']\n"
     ]
    }
   ],
   "source": [
    "# calculate labels\n",
    "labels = train.cuisine\n",
    "label_enc = LabelEncoder()\n",
    "y = label_enc.fit_transform(labels)\n",
    "\n",
    "assert len(label_enc.classes_) == len(set(labels))\n",
    "assert y.shape[0] == train.shape[0]\n",
    "labels_length = len(label_enc.classes_)\n",
    "print (\"There are in total %d labels\" % labels_length)\n",
    "\n",
    "print (label_enc.classes_)"
   ]
  },
  {
   "cell_type": "code",
   "execution_count": 7,
   "metadata": {},
   "outputs": [],
   "source": [
    "# Here we use CountVectorizer to encode ingredients feature. \n",
    "# Here, since we have commas in string list, we can not split by commas\n",
    "# The transformed feature matrix X is represented by sparse matrix (csr)\n",
    "\n",
    "ingredients_list = list(map(lambda r: \"sepearate\".join(r), train.ingredients))\n",
    "assert len(ingredients_list) == train.shape[0]\n",
    "\n",
    "enc = CountVectorizer(vocabulary= ingredients, \n",
    "                      tokenizer=lambda x : x.split('sepearate'))\n",
    "X = enc.fit_transform(ingredients_list)\n",
    "\n",
    "assert X.shape == (train.shape[0], length)\n"
   ]
  },
  {
   "cell_type": "code",
   "execution_count": 8,
   "metadata": {},
   "outputs": [
    {
     "name": "stdout",
     "output_type": "stream",
     "text": [
      "0.3706441393875396\n"
     ]
    }
   ],
   "source": [
    "# Naive Bayes under Gaussian and Bernoulli prior assumption\n",
    "# Logistic Regression models to do classification.\n",
    "r_accum = []\n",
    "e_accum = []\n",
    "kf = KFold(n_splits = 3)\n",
    "\n",
    "for r_idx, e_idx in kf.split(X):\n",
    "    r_accum.append(r_idx)\n",
    "    e_accum.append(e_idx)\n",
    "cls_gaussian_nb = GaussianNB()\n",
    "cls_gaussian_nb.fit(X[r_accum[0]].toarray(), y[r_accum[0]])\n",
    "gau_score = cls_gaussian_nb.score(X[e_accum[0]].toarray(), y[e_accum[0]])\n",
    "print (gau_score)\n"
   ]
  },
  {
   "cell_type": "code",
   "execution_count": 9,
   "metadata": {},
   "outputs": [
    {
     "name": "stdout",
     "output_type": "stream",
     "text": [
      "0.6903007980356046\n"
     ]
    }
   ],
   "source": [
    "# Naiive Bayes Classifier - Bernouli prior assumption\n",
    "cls_bernoulli_nb = BernoulliNB()\n",
    "cls_bernoulli_nb.fit(X[:30000], y[:30000])\n",
    "ber_score = cls_bernoulli_nb.score(X[30000:], y[30000:])\n",
    "print (ber_score)"
   ]
  },
  {
   "cell_type": "code",
   "execution_count": 11,
   "metadata": {},
   "outputs": [
    {
     "name": "stderr",
     "output_type": "stream",
     "text": [
      "/Users/christasen/anaconda3/lib/python3.7/site-packages/sklearn/linear_model/logistic.py:432: FutureWarning: Default solver will be changed to 'lbfgs' in 0.22. Specify a solver to silence this warning.\n",
      "  FutureWarning)\n",
      "/Users/christasen/anaconda3/lib/python3.7/site-packages/sklearn/linear_model/logistic.py:469: FutureWarning: Default multi_class will be changed to 'auto' in 0.22. Specify the multi_class option to silence this warning.\n",
      "  \"this warning.\", FutureWarning)\n"
     ]
    },
    {
     "name": "stdout",
     "output_type": "stream",
     "text": [
      "0.7710816111027304\n"
     ]
    }
   ],
   "source": [
    "# Logistic Regression Model to perform 3 fold cross-validation\n",
    "cls_lr = LogisticRegression()\n",
    "cls_lr.fit(X[r_accum[0]], y[r_accum[0]])\n",
    "lr_score = cls_lr.score(X[e_accum[0]], y[e_accum[0]])\n",
    "print (lr_score)"
   ]
  },
  {
   "cell_type": "code",
   "execution_count": null,
   "metadata": {},
   "outputs": [],
   "source": [
    "# Test phase\n",
    "test = panda.read_json('test.json')\n",
    "print (test.columns)\n",
    "X_te = enc.transform(map(lambda r: \"sepearate\".join(r), test.ingredients))"
   ]
  },
  {
   "cell_type": "code",
   "execution_count": null,
   "metadata": {},
   "outputs": [],
   "source": [
    "print (X_te.shape)\n",
    "mdl = LogisticRegression()\n",
    "mdl.fit(X, y)"
   ]
  },
  {
   "cell_type": "code",
   "execution_count": 79,
   "metadata": {},
   "outputs": [],
   "source": [
    "y_te = mdl.predict(X_te)\n",
    "labels_te = label_enc.inverse_transform(y_te)\n",
    "ret = npy.column_stack((test.id, labels_te))\n",
    "npy.savetxt('testResult_cooking.csv', ret, delimiter=',', fmt='%s', header='id,cuisine', comments='')"
   ]
  },
  {
   "cell_type": "code",
   "execution_count": null,
   "metadata": {},
   "outputs": [],
   "source": []
  }
 ],
 "metadata": {
  "kernelspec": {
   "display_name": "Python 3",
   "language": "python",
   "name": "python3"
  },
  "language_info": {
   "codemirror_mode": {
    "name": "ipython",
    "version": 3
   },
   "file_extension": ".py",
   "mimetype": "text/x-python",
   "name": "python",
   "nbconvert_exporter": "python",
   "pygments_lexer": "ipython3",
   "version": "3.7.3"
  }
 },
 "nbformat": 4,
 "nbformat_minor": 2
}
